{
 "cells": [
  {
   "cell_type": "markdown",
   "id": "3cd13974",
   "metadata": {},
   "source": [
    "# Collecting our images"
   ]
  },
  {
   "cell_type": "code",
   "execution_count": 1,
   "id": "1ee48ad7",
   "metadata": {},
   "outputs": [],
   "source": [
    "#!pip install opencv-python\n",
    "import cv2 #opencv\n",
    "import os #help us work with file paths\n",
    "import time \n",
    "import uuid #to name our image files"
   ]
  },
  {
   "cell_type": "code",
   "execution_count": 2,
   "id": "61ae7f03",
   "metadata": {},
   "outputs": [],
   "source": [
    "#define where we are going to store our images\n",
    "images_path = \"Tensorflow/workspace/images/collectedimages\""
   ]
  },
  {
   "cell_type": "code",
   "execution_count": 3,
   "id": "88db3177",
   "metadata": {},
   "outputs": [],
   "source": [
    "#define labels\n",
    "labels = [\"Hello\",\"Please\",\"Yes\",\"No\",\"Iloveyou\"]\n",
    "\n",
    "#we are going to collect 15 images for each word \n",
    "number_imgs = 10"
   ]
  },
  {
   "cell_type": "code",
   "execution_count": 4,
   "id": "68ee4e1e",
   "metadata": {},
   "outputs": [
    {
     "name": "stdout",
     "output_type": "stream",
     "text": [
      "Collecting images for Hello\n",
      "Collecting images for Please\n",
      "Collecting images for Yes\n",
      "Collecting images for No\n",
      "Collecting images for Iloveyou\n"
     ]
    }
   ],
   "source": [
    "#loop through each of the labels in the array \n",
    "for label in labels:\n",
    "    #create directory for each label\n",
    "    !mkdir {\"Tensorflow\\workspace\\images\\collectedimages\\\\\"+label}\n",
    "    #start video capture (initialize webcam)\n",
    "    cap = cv2.VideoCapture(0)\n",
    "    print(\"Collecting images for {}\".format(label))\n",
    "    time.sleep(5) #sleep for 5 seconds so we have time to change position\n",
    "    #loop through number of images we want ot collect (15)\n",
    "    for imgnum in range (number_imgs):\n",
    "        #set up capture\n",
    "        ret, frame = cap.read()\n",
    "        #defining the name and the actual path were the image is going to be stored\n",
    "        imgname = os.path.join(images_path, label, label+\".\"+\"{}.jpg\".format(str(uuid.uuid1())))\n",
    "        cv2.imwrite(imgname,frame)\n",
    "        cv2.imshow(\"frame\",frame)\n",
    "        time.sleep(2)\n",
    "        \n",
    "        if cv2.waitKey(1) & 0xFF == ord(\"q\"):\n",
    "            break\n",
    "    cap.release()"
   ]
  }
 ],
 "metadata": {
  "kernelspec": {
   "display_name": "Python 3 (ipykernel)",
   "language": "python",
   "name": "python3"
  },
  "language_info": {
   "codemirror_mode": {
    "name": "ipython",
    "version": 3
   },
   "file_extension": ".py",
   "mimetype": "text/x-python",
   "name": "python",
   "nbconvert_exporter": "python",
   "pygments_lexer": "ipython3",
   "version": "3.10.6"
  }
 },
 "nbformat": 4,
 "nbformat_minor": 5
}
